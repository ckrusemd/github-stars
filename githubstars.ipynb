{
 "metadata": {
  "language_info": {
   "codemirror_mode": {
    "name": "ipython",
    "version": 3
   },
   "file_extension": ".py",
   "mimetype": "text/x-python",
   "name": "python",
   "nbconvert_exporter": "python",
   "pygments_lexer": "ipython3",
   "version": "3.8.5"
  },
  "orig_nbformat": 2,
  "kernelspec": {
   "name": "python385jvsc74a57bd04aed8422883dcce4c415b635faad05cbba72d9d3ae0f391a4fe3f5e91f7e6027",
   "display_name": "Python 3.8.5 64-bit ('base': conda)"
  }
 },
 "nbformat": 4,
 "nbformat_minor": 2,
 "cells": [
  {
   "source": [
    "# GitHub Stars"
   ],
   "cell_type": "markdown",
   "metadata": {}
  },
  {
   "cell_type": "code",
   "execution_count": 1,
   "metadata": {
    "tags": []
   },
   "outputs": [],
   "source": [
    "import requests\n",
    "import numpy as np\n",
    "import pandas as pd\n",
    "import datetime as dt\n",
    "import time"
   ]
  },
  {
   "cell_type": "code",
   "execution_count": 2,
   "metadata": {},
   "outputs": [],
   "source": [
    "def parse_element(json):\n",
    "    return pd.DataFrame(data = {    'id' : json['id'], \n",
    "                                    'full_name' : json['full_name'], \n",
    "                                    'description' : json['description'],\n",
    "                                    'created_at' : json['created_at'],\n",
    "                                    'updated_at' : json['updated_at'],\n",
    "                                    'watchers_count' : json['watchers_count'],\n",
    "                                    'stargazers_count' : json['stargazers_count'],\n",
    "                                    'language' : json['language'],\n",
    "                                    'score' : json['score']\n",
    "                                    },index=[0])"
   ]
  },
  {
   "cell_type": "code",
   "execution_count": 3,
   "metadata": {},
   "outputs": [],
   "source": [
    "def parse_json(response):\n",
    "    response_json = response.json()\n",
    "    df_parsed = pd.DataFrame()\n",
    "    print(response_json.keys())\n",
    "    if response_json['items']!=None:\n",
    "        for item in response_json['items']:\n",
    "            temp_df = parse_element(item)\n",
    "            df_parsed = df_parsed.append(temp_df)\n",
    "        return df_parsed"
   ]
  },
  {
   "cell_type": "code",
   "execution_count": 4,
   "metadata": {},
   "outputs": [],
   "source": [
    "def parse_keywords(keywords):\n",
    "    df_all = pd.DataFrame()\n",
    "    for word in keywords:\n",
    "        API_URL = \"https://api.github.com/search/repositories?q=\" + word + \"&sort=stars\"\n",
    "        response = requests.get(API_URL)\n",
    "        df_all = df_all.append(parse_json(response))\n",
    "        time.sleep(20)\n",
    "    df_all['datetime'] = dt.datetime.now()\n",
    "    df_all = df_all.sort_values(['stargazers_count'],ascending=False)\n",
    "    return df_all"
   ]
  },
  {
   "cell_type": "code",
   "execution_count": 5,
   "metadata": {},
   "outputs": [],
   "source": [
    "keywords = ['python','dash','flask','tensorflow','keras','spark','apache','dacy','huggingface','gensim','nlp']"
   ]
  },
  {
   "cell_type": "code",
   "execution_count": 6,
   "metadata": {},
   "outputs": [
    {
     "output_type": "stream",
     "name": "stdout",
     "text": [
      "dict_keys(['total_count', 'incomplete_results', 'items'])\n",
      "dict_keys(['total_count', 'incomplete_results', 'items'])\n",
      "dict_keys(['total_count', 'incomplete_results', 'items'])\n",
      "dict_keys(['total_count', 'incomplete_results', 'items'])\n",
      "dict_keys(['total_count', 'incomplete_results', 'items'])\n",
      "dict_keys(['total_count', 'incomplete_results', 'items'])\n",
      "dict_keys(['total_count', 'incomplete_results', 'items'])\n",
      "dict_keys(['total_count', 'incomplete_results', 'items'])\n",
      "dict_keys(['total_count', 'incomplete_results', 'items'])\n",
      "dict_keys(['total_count', 'incomplete_results', 'items'])\n",
      "dict_keys(['total_count', 'incomplete_results', 'items'])\n"
     ]
    }
   ],
   "source": [
    "df_all = parse_keywords(keywords)"
   ]
  },
  {
   "cell_type": "code",
   "execution_count": 7,
   "metadata": {},
   "outputs": [
    {
     "output_type": "execute_result",
     "data": {
      "text/plain": [
       "           id                         full_name  \\\n",
       "0    45717250             tensorflow/tensorflow   \n",
       "0    45717250             tensorflow/tensorflow   \n",
       "0    83222441  donnemartin/system-design-primer   \n",
       "0   121395510                  CyC2018/CS-Notes   \n",
       "0      291137                   ohmyzsh/ohmyzsh   \n",
       "..        ...                               ...   \n",
       "0   120788325                 Dilions/dacy_city   \n",
       "0    15967499               roblevy/NystuenDacy   \n",
       "0   227847969                   DaCybrr/DaCybrr   \n",
       "0   237065651       adacy/AlexanderDacy-JOUR352   \n",
       "0    41113018           RoboMaker99/Dacy-s-Head   \n",
       "\n",
       "                                          description            created_at  \\\n",
       "0   An Open Source Machine Learning Framework for ...  2015-11-07T01:19:20Z   \n",
       "0   An Open Source Machine Learning Framework for ...  2015-11-07T01:19:20Z   \n",
       "0   Learn how to design large-scale systems. Prep ...  2017-02-26T16:15:28Z   \n",
       "0      :books: 技术面试必备基础知识、Leetcode、计算机操作系统、计算机网络、系统设计  2018-02-13T14:56:24Z   \n",
       "0   🙃   A delightful community-driven (with 1800+ ...  2009-08-28T18:15:37Z   \n",
       "..                                                ...                   ...   \n",
       "0                                          self enjoy  2018-02-08T16:41:38Z   \n",
       "0          A Nystuen/Dacy analysis of  the demo model  2014-01-16T12:45:52Z   \n",
       "0                                                None  2019-12-13T13:37:46Z   \n",
       "0                                                None  2020-01-29T19:33:23Z   \n",
       "0                        Mr. Darcy's new head design.  2015-08-20T18:43:17Z   \n",
       "\n",
       "              updated_at  watchers_count  stargazers_count language  score  \\\n",
       "0   2021-05-09T16:53:10Z          155650            155650      C++    1.0   \n",
       "0   2021-05-09T16:53:10Z          155650            155650      C++    1.0   \n",
       "0   2021-05-09T17:09:13Z          130540            130540   Python    1.0   \n",
       "0   2021-05-09T17:00:19Z          127684            127684     Java    1.0   \n",
       "0   2021-05-09T15:41:40Z          127452            127452    Shell    1.0   \n",
       "..                   ...             ...               ...      ...    ...   \n",
       "0   2019-07-22T01:18:42Z               0                 0        C    1.0   \n",
       "0   2014-01-16T12:45:52Z               0                 0     None    1.0   \n",
       "0   2019-12-13T13:37:46Z               0                 0     None    1.0   \n",
       "0   2020-05-12T16:55:05Z               0                 0     HTML    1.0   \n",
       "0   2015-08-20T18:43:17Z               0                 0     None    1.0   \n",
       "\n",
       "                     datetime  \n",
       "0  2021-05-09 19:14:14.062037  \n",
       "0  2021-05-09 19:14:14.062037  \n",
       "0  2021-05-09 19:14:14.062037  \n",
       "0  2021-05-09 19:14:14.062037  \n",
       "0  2021-05-09 19:14:14.062037  \n",
       "..                        ...  \n",
       "0  2021-05-09 19:14:14.062037  \n",
       "0  2021-05-09 19:14:14.062037  \n",
       "0  2021-05-09 19:14:14.062037  \n",
       "0  2021-05-09 19:14:14.062037  \n",
       "0  2021-05-09 19:14:14.062037  \n",
       "\n",
       "[322 rows x 10 columns]"
      ],
      "text/html": "<div>\n<style scoped>\n    .dataframe tbody tr th:only-of-type {\n        vertical-align: middle;\n    }\n\n    .dataframe tbody tr th {\n        vertical-align: top;\n    }\n\n    .dataframe thead th {\n        text-align: right;\n    }\n</style>\n<table border=\"1\" class=\"dataframe\">\n  <thead>\n    <tr style=\"text-align: right;\">\n      <th></th>\n      <th>id</th>\n      <th>full_name</th>\n      <th>description</th>\n      <th>created_at</th>\n      <th>updated_at</th>\n      <th>watchers_count</th>\n      <th>stargazers_count</th>\n      <th>language</th>\n      <th>score</th>\n      <th>datetime</th>\n    </tr>\n  </thead>\n  <tbody>\n    <tr>\n      <th>0</th>\n      <td>45717250</td>\n      <td>tensorflow/tensorflow</td>\n      <td>An Open Source Machine Learning Framework for ...</td>\n      <td>2015-11-07T01:19:20Z</td>\n      <td>2021-05-09T16:53:10Z</td>\n      <td>155650</td>\n      <td>155650</td>\n      <td>C++</td>\n      <td>1.0</td>\n      <td>2021-05-09 19:14:14.062037</td>\n    </tr>\n    <tr>\n      <th>0</th>\n      <td>45717250</td>\n      <td>tensorflow/tensorflow</td>\n      <td>An Open Source Machine Learning Framework for ...</td>\n      <td>2015-11-07T01:19:20Z</td>\n      <td>2021-05-09T16:53:10Z</td>\n      <td>155650</td>\n      <td>155650</td>\n      <td>C++</td>\n      <td>1.0</td>\n      <td>2021-05-09 19:14:14.062037</td>\n    </tr>\n    <tr>\n      <th>0</th>\n      <td>83222441</td>\n      <td>donnemartin/system-design-primer</td>\n      <td>Learn how to design large-scale systems. Prep ...</td>\n      <td>2017-02-26T16:15:28Z</td>\n      <td>2021-05-09T17:09:13Z</td>\n      <td>130540</td>\n      <td>130540</td>\n      <td>Python</td>\n      <td>1.0</td>\n      <td>2021-05-09 19:14:14.062037</td>\n    </tr>\n    <tr>\n      <th>0</th>\n      <td>121395510</td>\n      <td>CyC2018/CS-Notes</td>\n      <td>:books: 技术面试必备基础知识、Leetcode、计算机操作系统、计算机网络、系统设计</td>\n      <td>2018-02-13T14:56:24Z</td>\n      <td>2021-05-09T17:00:19Z</td>\n      <td>127684</td>\n      <td>127684</td>\n      <td>Java</td>\n      <td>1.0</td>\n      <td>2021-05-09 19:14:14.062037</td>\n    </tr>\n    <tr>\n      <th>0</th>\n      <td>291137</td>\n      <td>ohmyzsh/ohmyzsh</td>\n      <td>🙃   A delightful community-driven (with 1800+ ...</td>\n      <td>2009-08-28T18:15:37Z</td>\n      <td>2021-05-09T15:41:40Z</td>\n      <td>127452</td>\n      <td>127452</td>\n      <td>Shell</td>\n      <td>1.0</td>\n      <td>2021-05-09 19:14:14.062037</td>\n    </tr>\n    <tr>\n      <th>...</th>\n      <td>...</td>\n      <td>...</td>\n      <td>...</td>\n      <td>...</td>\n      <td>...</td>\n      <td>...</td>\n      <td>...</td>\n      <td>...</td>\n      <td>...</td>\n      <td>...</td>\n    </tr>\n    <tr>\n      <th>0</th>\n      <td>120788325</td>\n      <td>Dilions/dacy_city</td>\n      <td>self enjoy</td>\n      <td>2018-02-08T16:41:38Z</td>\n      <td>2019-07-22T01:18:42Z</td>\n      <td>0</td>\n      <td>0</td>\n      <td>C</td>\n      <td>1.0</td>\n      <td>2021-05-09 19:14:14.062037</td>\n    </tr>\n    <tr>\n      <th>0</th>\n      <td>15967499</td>\n      <td>roblevy/NystuenDacy</td>\n      <td>A Nystuen/Dacy analysis of  the demo model</td>\n      <td>2014-01-16T12:45:52Z</td>\n      <td>2014-01-16T12:45:52Z</td>\n      <td>0</td>\n      <td>0</td>\n      <td>None</td>\n      <td>1.0</td>\n      <td>2021-05-09 19:14:14.062037</td>\n    </tr>\n    <tr>\n      <th>0</th>\n      <td>227847969</td>\n      <td>DaCybrr/DaCybrr</td>\n      <td>None</td>\n      <td>2019-12-13T13:37:46Z</td>\n      <td>2019-12-13T13:37:46Z</td>\n      <td>0</td>\n      <td>0</td>\n      <td>None</td>\n      <td>1.0</td>\n      <td>2021-05-09 19:14:14.062037</td>\n    </tr>\n    <tr>\n      <th>0</th>\n      <td>237065651</td>\n      <td>adacy/AlexanderDacy-JOUR352</td>\n      <td>None</td>\n      <td>2020-01-29T19:33:23Z</td>\n      <td>2020-05-12T16:55:05Z</td>\n      <td>0</td>\n      <td>0</td>\n      <td>HTML</td>\n      <td>1.0</td>\n      <td>2021-05-09 19:14:14.062037</td>\n    </tr>\n    <tr>\n      <th>0</th>\n      <td>41113018</td>\n      <td>RoboMaker99/Dacy-s-Head</td>\n      <td>Mr. Darcy's new head design.</td>\n      <td>2015-08-20T18:43:17Z</td>\n      <td>2015-08-20T18:43:17Z</td>\n      <td>0</td>\n      <td>0</td>\n      <td>None</td>\n      <td>1.0</td>\n      <td>2021-05-09 19:14:14.062037</td>\n    </tr>\n  </tbody>\n</table>\n<p>322 rows × 10 columns</p>\n</div>"
     },
     "metadata": {},
     "execution_count": 7
    }
   ],
   "source": [
    "df_all"
   ]
  }
 ]
}